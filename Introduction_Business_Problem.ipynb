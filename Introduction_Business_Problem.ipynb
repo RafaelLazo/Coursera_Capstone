{
 "cells": [
  {
   "cell_type": "markdown",
   "metadata": {},
   "source": [
    "# Business Problem "
   ]
  },
  {
   "cell_type": "markdown",
   "metadata": {},
   "source": [
    "#### Nowadays, Traffic accidents occurs daily and we have to do something regarding it. I am of the opinion that if we can detect patterns using Machine Learning that allows us to prevent this accidents, we can save lifes, that is the goal for this project. This project is aimed at those people who own a car and travel both by public and private transport, as this will help them to know in which places they are more likely to suffer an accident and in what hours in particular, all this will contribute to development of the country, as it will allow the state to save lives and medical care and with it, we will increase the medical response capacity of hospitals and reduce costs. It is important to know that we must work on traffic policies that allow us to overcome one of the main causes of death, traffic accidents."
   ]
  },
  {
   "cell_type": "code",
   "execution_count": null,
   "metadata": {},
   "outputs": [],
   "source": []
  }
 ],
 "metadata": {
  "kernelspec": {
   "display_name": "Python 3",
   "language": "python",
   "name": "python3"
  },
  "language_info": {
   "codemirror_mode": {
    "name": "ipython",
    "version": 3
   },
   "file_extension": ".py",
   "mimetype": "text/x-python",
   "name": "python",
   "nbconvert_exporter": "python",
   "pygments_lexer": "ipython3",
   "version": "3.7.8"
  }
 },
 "nbformat": 4,
 "nbformat_minor": 4
}
